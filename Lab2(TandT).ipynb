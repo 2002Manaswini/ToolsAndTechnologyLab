{
  "cells": [
    {
      "cell_type": "markdown",
      "metadata": {
        "id": "pbmXL_3xENQS"
      },
      "source": [
        "# LAB 2\n"
      ]
    },
    {
      "cell_type": "markdown",
      "metadata": {
        "id": "7qRg27muEcRV"
      },
      "source": [
        "STRINGS :"
      ]
    },
    {
      "cell_type": "markdown",
      "metadata": {
        "id": "Ep-SKd5LEh3S"
      },
      "source": [
        "1) Write a Python Program to count the number of vowels in a string."
      ]
    },
    {
      "cell_type": "code",
      "execution_count": null,
      "metadata": {
        "colab": {
          "base_uri": "https://localhost:8080/"
        },
        "id": "AOI53b08Ee9y",
        "outputId": "e50d2e36-b7d3-4db6-897a-1eda00508a9b"
      },
      "outputs": [
        {
          "name": "stdout",
          "output_type": "stream",
          "text": [
            "Enter string:python\n",
            "Number of vowels are:  1\n"
          ]
        }
      ],
      "source": [
        "st=input(\"Enter string:\")\n",
        "\n",
        "v=0\n",
        "for i in st:\n",
        "      if(i=='a' or i=='e' or i=='i' or i=='o' or i=='u' or i=='A' or i=='E' or i=='I' or i=='O' or i=='U'):\n",
        "            v=v+1\n",
        "\n",
        "print(\"Number of vowels are: \",v)\n",
        "\n"
      ]
    },
    {
      "cell_type": "markdown",
      "metadata": {
        "id": "SXf3zuNjFUNT"
      },
      "source": [
        "2)Write a Python Program to replace all occurrences of ‘a’ with ‘@’ in a string."
      ]
    },
    {
      "cell_type": "code",
      "execution_count": null,
      "metadata": {
        "colab": {
          "base_uri": "https://localhost:8080/"
        },
        "id": "uUgvOt8lFYsu",
        "outputId": "d1135afa-9f49-441f-8634-236dcaec4b4b"
      },
      "outputs": [
        {
          "name": "stdout",
          "output_type": "stream",
          "text": [
            "Enter string:language\n",
            "Modified string is :  l@ngu@ge\n"
          ]
        }
      ],
      "source": [
        "st=input(\"Enter string:\")\n",
        "\n",
        "st=st.replace('a','@')\n",
        "\n",
        "print(\"Modified string is : \",st)\n"
      ]
    },
    {
      "cell_type": "markdown",
      "metadata": {
        "id": "NQhJqG7tF-TK"
      },
      "source": [
        "3) Write a Python Program to calculate the length of a string without using a\n",
        "library function."
      ]
    },
    {
      "cell_type": "code",
      "execution_count": null,
      "metadata": {
        "colab": {
          "base_uri": "https://localhost:8080/"
        },
        "id": "R-_tKTaRF_Ud",
        "outputId": "d6bad541-1f48-4e46-966a-81b0347291bd"
      },
      "outputs": [
        {
          "name": "stdout",
          "output_type": "stream",
          "text": [
            "Enter string:abcd\n",
            "Length of the string is:  4\n"
          ]
        }
      ],
      "source": [
        "st=input(\"Enter string:\")\n",
        "count=0\n",
        "\n",
        "for i in st:\n",
        "      count=count+1\n",
        "      \n",
        "print(\"Length of the string is: \",count)\n"
      ]
    },
    {
      "cell_type": "markdown",
      "metadata": {
        "id": "3qkDYeevGROj"
      },
      "source": [
        "4) Write a Python Program to take in two strings and display the smallest string\n",
        "without using the library function."
      ]
    },
    {
      "cell_type": "code",
      "execution_count": null,
      "metadata": {
        "colab": {
          "base_uri": "https://localhost:8080/"
        },
        "id": "dTiXK7oMGSe2",
        "outputId": "4492cf07-5c2c-41c0-a4fd-d86020b61a92"
      },
      "outputs": [
        {
          "name": "stdout",
          "output_type": "stream",
          "text": [
            "Enter first string: abcde\n",
            "Enter second string: mnopqr\n",
            "Smallest string is:  abcde\n"
          ]
        }
      ],
      "source": [
        "s1=input(\"Enter first string: \")\n",
        "s2=input(\"Enter second string: \")\n",
        "\n",
        "c1=0\n",
        "c2=0\n",
        "\n",
        "for i in s1:\n",
        "      c1=c1+1\n",
        "for j in s2:\n",
        "      c2=c2+1\n",
        "\n",
        "if(c1>c2):\n",
        "      print(\"Smallest string is: \",s2)\n",
        "elif(c1==c2):\n",
        "      print(\"Both strings are equal.\")\n",
        "else:\n",
        "      print(\"Smallest string is: \",s1)\n",
        "     \n"
      ]
    },
    {
      "cell_type": "markdown",
      "metadata": {
        "id": "e6wOSd0jHCCQ"
      },
      "source": [
        "5) Write a Python Program to count the number of lowercase and uppercase letters\n",
        "in a string."
      ]
    },
    {
      "cell_type": "code",
      "execution_count": null,
      "metadata": {
        "colab": {
          "base_uri": "https://localhost:8080/"
        },
        "id": "hNCTi19rHFQ-",
        "outputId": "13db344d-d9a5-4e66-c118-d9b1faa125cd"
      },
      "outputs": [
        {
          "name": "stdout",
          "output_type": "stream",
          "text": [
            "Enter string:AbCdefG\n",
            "The number of lowercase characters is:  4\n",
            "The number of uppercase characters is:  3\n"
          ]
        }
      ],
      "source": [
        "st=input(\"Enter string : \")\n",
        "\n",
        "c1=0\n",
        "c2=0\n",
        "\n",
        "for i in st:\n",
        "      if(i.islower()):\n",
        "            c1=c1+1\n",
        "      elif(i.isupper()):\n",
        "            c2=c2+1\n",
        "print(\"The number of lowercase characters is: \",c1)\n",
        "\n",
        "print(\"The number of uppercase characters is: \",c2)\n"
      ]
    },
    {
      "cell_type": "markdown",
      "metadata": {
        "id": "x0w-Fs-5Hn5b"
      },
      "source": [
        "6) Write a Python Program to count the number of digits and characters in a string."
      ]
    },
    {
      "cell_type": "code",
      "execution_count": null,
      "metadata": {
        "colab": {
          "base_uri": "https://localhost:8080/"
        },
        "id": "oolOchLKHq3W",
        "outputId": "45218a8e-e3c3-45e0-bd2e-2eb66a08abe4"
      },
      "outputs": [
        {
          "name": "stdout",
          "output_type": "stream",
          "text": [
            "Input a string : lab123\n",
            "Letters  3\n",
            "Digits  3\n"
          ]
        }
      ],
      "source": [
        "s = input(\"Input a string : \")\n",
        "\n",
        "c1=c2=0\n",
        "for i in s:\n",
        "    if i.isdigit():\n",
        "        c1=c1+1\n",
        "    elif i.isalpha():\n",
        "        c2=c2+1\n",
        "    else:\n",
        "        pass\n",
        "\n",
        "print(\"Letters \", c2)\n",
        "print(\"Digits \", c1)"
      ]
    },
    {
      "cell_type": "markdown",
      "metadata": {
        "id": "xzKXn3uvJJN5"
      },
      "source": [
        "7) Write a Python program to get a string made of the first 3 and the last 3 chars\n",
        "from a given string. If the string length is less than 3, return instead of the\n",
        "empty string."
      ]
    },
    {
      "cell_type": "code",
      "execution_count": null,
      "metadata": {
        "colab": {
          "base_uri": "https://localhost:8080/"
        },
        "id": "rRzwXAEPJSsq",
        "outputId": "ab5a46be-b663-41f0-a5f5-e1fa9dc72712"
      },
      "outputs": [
        {
          "name": "stdout",
          "output_type": "stream",
          "text": [
            "lab\n",
            "lanage\n",
            "p\n"
          ]
        }
      ],
      "source": [
        "def ft(str):\n",
        "\treturn str[:3]+str[-3: ] if len(str) > 3 else str\n",
        "\n",
        "print(ft('lab'))\n",
        "print(ft('language'))\n",
        "print(ft('p'))"
      ]
    },
    {
      "cell_type": "markdown",
      "metadata": {
        "id": "pIBRLPQYLcSB"
      },
      "source": [
        "8) Write a Python program to count the occurrences of each word in a given string\n",
        "sentence."
      ]
    },
    {
      "cell_type": "code",
      "execution_count": null,
      "metadata": {
        "colab": {
          "base_uri": "https://localhost:8080/"
        },
        "id": "u9N40D0fLfj1",
        "outputId": "b63edc31-c58b-4a96-dbb8-cc24b7560478"
      },
      "outputs": [
        {
          "name": "stdout",
          "output_type": "stream",
          "text": [
            "Enter string: my name is manaswini sahoo\n",
            "Enter word: name\n",
            "Count of the word is:  1\n"
          ]
        }
      ],
      "source": [
        "s=input(\"Enter string: \")\n",
        "w=input(\"Enter word: \")\n",
        "\n",
        "a=[]\n",
        "count=0\n",
        "\n",
        "a=s.split(\" \")\n",
        "\n",
        "for i in range(0,len(a)):\n",
        "      if(w==a[i]):\n",
        "            count=count+1\n",
        "\n",
        "print(\"Count of the word is: \",count)\n"
      ]
    },
    {
      "cell_type": "markdown",
      "metadata": {
        "id": "RynbT5UKNZ6G"
      },
      "source": [
        "9) Write a Python program to check if a string is Palindrome or not."
      ]
    },
    {
      "cell_type": "code",
      "execution_count": null,
      "metadata": {
        "colab": {
          "base_uri": "https://localhost:8080/"
        },
        "id": "UoU1Y_KXNdHh",
        "outputId": "a1491ff9-a81c-490b-9e8f-1f072f24a174"
      },
      "outputs": [
        {
          "name": "stdout",
          "output_type": "stream",
          "text": [
            "Enter a string: malayalam\n",
            "The string is a palindrome\n"
          ]
        }
      ],
      "source": [
        "s=input(\"Enter a string: \")\n",
        "\n",
        "if(s==s[::-1]):\n",
        "      print(\"The string is a palindrome\")\n",
        "else:\n",
        "      print(\"Not a palindrome\")"
      ]
    },
    {
      "cell_type": "markdown",
      "metadata": {
        "id": "t6rTY1biN51h"
      },
      "source": [
        "10)Write a Python program to reverse a string.\n"
      ]
    },
    {
      "cell_type": "code",
      "execution_count": null,
      "metadata": {
        "colab": {
          "base_uri": "https://localhost:8080/"
        },
        "id": "gGV92tbpN9Sj",
        "outputId": "200ffa80-97a5-4ca9-d2c3-069b01ddc11f"
      },
      "outputs": [
        {
          "name": "stdout",
          "output_type": "stream",
          "text": [
            "Enter a string : name\n",
            "The reversed string is :  eman\n"
          ]
        }
      ],
      "source": [
        "  \n",
        "s = input(\"Enter a string : \")\n",
        "rev = \"\"  \n",
        "count = len(s)  \n",
        "while count > 0:   \n",
        "    rev += s[ count - 1 ]   \n",
        "    count = count - 1\n",
        "\n",
        "print (\"The reversed string is : \",rev) "
      ]
    },
    {
      "cell_type": "markdown",
      "metadata": {
        "id": "241wD-JKOnzp"
      },
      "source": [
        "**LIST**"
      ]
    },
    {
      "cell_type": "markdown",
      "metadata": {
        "id": "xwaVxESNOrqy"
      },
      "source": [
        "1) Write a Python Program to find the print sum, average of all numbers,\n",
        "smallest and largest element of a list."
      ]
    },
    {
      "cell_type": "code",
      "execution_count": null,
      "metadata": {
        "colab": {
          "base_uri": "https://localhost:8080/"
        },
        "id": "8ifnBxPIOvPF",
        "outputId": "5b12430e-5725-4aac-e1cc-3de2943f2e57"
      },
      "outputs": [
        {
          "name": "stdout",
          "output_type": "stream",
          "text": [
            "Enter the number of elements:5\n",
            "Enter the element: 88\n",
            "Enter the element: 9\n",
            "Enter the element: 4\n",
            "Enter the element: 3\n",
            "Enter the element: 1\n",
            "Largest of elements of  [88, 9, 4, 3, 1] is:  1\n",
            "Smallest of elements of  [88, 9, 4, 3, 1] is:  88\n",
            "Average of list [88, 9, 4, 3, 1] is:  21.0\n"
          ]
        }
      ],
      "source": [
        "l1 = list()\n",
        "\n",
        "n = int(input (\"Enter the number of elements: \"))\n",
        "for i in range(n):\n",
        "    el = int (input (\"Enter the element: \"))\n",
        "    l1.append(el)\n",
        "\n",
        "l = max(l1)\n",
        "s = min(l1)\n",
        "av = sum(l1) / len(l1)\n",
        "\n",
        "print (\"Largest of elements of \", l1, \"is: \", s )\n",
        "print (\"Smallest of elements of \", l1, \"is: \", l )\n",
        "print (\"Average of list\", l1, \"is: \", av )"
      ]
    },
    {
      "cell_type": "markdown",
      "metadata": {
        "id": "acMRmJjSPxGn"
      },
      "source": [
        "2) Write a Python Program to find the 2\n",
        "nd\n",
        "largest and 3\n",
        "rd\n",
        "smallest number in a\n",
        "list."
      ]
    },
    {
      "cell_type": "code",
      "execution_count": null,
      "metadata": {
        "colab": {
          "base_uri": "https://localhost:8080/"
        },
        "id": "eTlVHLMmP0zs",
        "outputId": "515d28e9-9270-44d6-d352-8f85bbd4c341"
      },
      "outputs": [
        {
          "name": "stdout",
          "output_type": "stream",
          "text": [
            "Second largest element is: 45\n",
            "3rd smallest element is: 45\n"
          ]
        }
      ],
      "source": [
        "list1 = [10, 20, 4, 45, 99]\n",
        " \n",
        "list1.sort()\n",
        " \n",
        "print(\"Second largest element is:\", list1[-2])\n",
        "print(\"3rd smallest element is:\", list1[3])"
      ]
    },
    {
      "cell_type": "markdown",
      "metadata": {
        "id": "IxD1qZ3kRlmT"
      },
      "source": [
        "3) Write a Python Program to generate random numbers from 1 to 50 and\n",
        "append them to the list."
      ]
    },
    {
      "cell_type": "code",
      "execution_count": null,
      "metadata": {
        "colab": {
          "base_uri": "https://localhost:8080/"
        },
        "id": "mThLlSx-Rpkj",
        "outputId": "134fb1e4-7e27-48c9-efc3-5484ab42b0d7"
      },
      "outputs": [
        {
          "name": "stdout",
          "output_type": "stream",
          "text": [
            "[38, 9, 39, 23, 30, 24, 42, 41, 48, 22]\n"
          ]
        }
      ],
      "source": [
        "import random\n",
        "\n",
        "randomlist = random.sample(range(1, 50), 10)\n",
        "\n",
        "print(randomlist)"
      ]
    },
    {
      "cell_type": "markdown",
      "metadata": {
        "id": "AxQgPG8zR6VK"
      },
      "source": [
        "4) Write a Python Program to put even and odd elements in a list into two\n",
        "different lists."
      ]
    },
    {
      "cell_type": "code",
      "execution_count": null,
      "metadata": {
        "colab": {
          "base_uri": "https://localhost:8080/"
        },
        "id": "PHx7nbL4R9H8",
        "outputId": "b9fb55e8-5b5d-4911-fce8-55368499914c"
      },
      "outputs": [
        {
          "name": "stdout",
          "output_type": "stream",
          "text": [
            "Enter number of elements: 6\n",
            "Enter element:44\n",
            "Enter element:7\n",
            "Enter element:88\n",
            "Enter element:9\n",
            "Enter element:33\n",
            "Enter element:8\n",
            "The even list [44, 88, 8]\n",
            "The odd list [7, 9, 33]\n"
          ]
        }
      ],
      "source": [
        "a=[]\n",
        "n=int(input(\"Enter number of elements: \"))\n",
        "\n",
        "for i in range(1,n+1):\n",
        "    b=int(input(\"Enter element:\"))\n",
        "    a.append(b)\n",
        "even=[]\n",
        "odd=[]\n",
        "for j in a:\n",
        "    if(j%2==0):\n",
        "        even.append(j)\n",
        "    else:\n",
        "        odd.append(j)7\n",
        "        \n",
        "print(\"The even list\",even)\n",
        "print(\"The odd list\",odd)\n"
      ]
    },
    {
      "cell_type": "markdown",
      "metadata": {
        "id": "8RwgBzLiSYG9"
      },
      "source": [
        "5) Write a Python Program to merge two lists and sort it."
      ]
    },
    {
      "cell_type": "code",
      "execution_count": null,
      "metadata": {
        "colab": {
          "base_uri": "https://localhost:8080/"
        },
        "id": "KNirA4C2Sb5d",
        "outputId": "dded96d8-abc4-43b4-eaec-0fa8b04d2409"
      },
      "outputs": [
        {
          "name": "stdout",
          "output_type": "stream",
          "text": [
            "Enter number of elements: 4\n",
            "Enter element: 4\n",
            "Enter element: 3\n",
            "Enter element: 2\n",
            "Enter element: 1\n",
            "Enter number of elements: 3\n",
            "Enter element: 6\n",
            "Enter element: 7\n",
            "Enter element: 8\n",
            "Sorted list is: [1, 2, 3, 4, 6, 7, 8]\n"
          ]
        }
      ],
      "source": [
        "a=[]\n",
        "c=[]\n",
        "\n",
        "n1=int(input(\"Enter number of elements: \"))\n",
        "\n",
        "for i in range(1,n1+1):\n",
        "    b=int(input(\"Enter element: \"))\n",
        "    a.append(b)\n",
        "\n",
        "n2=int(input(\"Enter number of elements: \"))\n",
        "1\n",
        "for i in range(1,n2+1):\n",
        "    d=int(input(\"Enter element: \"))\n",
        "    c.append(d)\n",
        "new=a+c\n",
        "new.sort()\n",
        "print(\"Sorted list is:\",new)"
      ]
    },
    {
      "cell_type": "markdown",
      "metadata": {
        "id": "4xNRtQKGSx3X"
      },
      "source": [
        "6) Write a Python Program to remove the duplicate items from a list."
      ]
    },
    {
      "cell_type": "code",
      "execution_count": null,
      "metadata": {
        "colab": {
          "base_uri": "https://localhost:8080/"
        },
        "id": "djlaCYCYS1aj",
        "outputId": "8de224eb-e7df-4c7f-d523-e8cc43c24ad8"
      },
      "outputs": [
        {
          "name": "stdout",
          "output_type": "stream",
          "text": [
            "List Before :  [1, 3, 3, 1, 2, 4, 5, 9, 6, 2]\n",
            "After removing duplicates :  [1, 3, 2, 4, 5, 9, 6]\n"
          ]
        }
      ],
      "source": [
        "my_list = [1, 3, 3, 1, 2, 4, 5, 9 ,6, 2]\n",
        "\n",
        "print(\"List Before : \", my_list)\n",
        "temp_list = []\n",
        "\n",
        "for i in my_list:\n",
        "    if i not in temp_list:\n",
        "        temp_list.append(i)\n",
        "\n",
        "my_list = temp_list\n",
        "\n",
        "print(\"After removing duplicates : \", my_list)"
      ]
    },
    {
      "cell_type": "markdown",
      "metadata": {
        "id": "vuUKDGz_TIfJ"
      },
      "source": [
        "7) Write a Python Program to take a list of words and print the length of the\n",
        "longest word."
      ]
    },
    {
      "cell_type": "code",
      "execution_count": null,
      "metadata": {
        "colab": {
          "base_uri": "https://localhost:8080/"
        },
        "id": "DfPj-8IlTMpn",
        "outputId": "76e2e65b-1e4f-459c-8c61-e8b6d580552d"
      },
      "outputs": [
        {
          "name": "stdout",
          "output_type": "stream",
          "text": [
            "The word with the longest length is: third  and length is  5\n"
          ]
        }
      ],
      "source": [
        "def longestLength(a):\n",
        "    max1 = len(a[0])\n",
        "    temp = a[0]\n",
        " \n",
        "    for i in a:\n",
        "        if(len(i) > max1):\n",
        " \n",
        "            max1 = len(i)\n",
        "            temp = i\n",
        " \n",
        "    print(\"The word with the longest length is:\", temp,\" and length is \", max1)\n",
        " \n",
        "a = [\"one\", \"two\", \"third\", \"four\"]\n",
        "\n",
        "longestLength(a)"
      ]
    },
    {
      "cell_type": "markdown",
      "metadata": {
        "id": "dEAHtnhJTWQ6"
      },
      "source": [
        "8) Write a Python program to count the number of strings where the string length\n",
        "is 3 or more and the first and last character are same from a given list of\n",
        "strings.\n",
        "\n",
        "Input : ['ab', 'aba', 'abaa', 'baba']\n",
        "\n",
        "Output : 2"
      ]
    },
    {
      "cell_type": "code",
      "execution_count": null,
      "metadata": {
        "colab": {
          "base_uri": "https://localhost:8080/"
        },
        "id": "gPPePXDoTZjM",
        "outputId": "c567f90f-0f4f-418a-d31e-828dd1f10709"
      },
      "outputs": [
        {
          "name": "stdout",
          "output_type": "stream",
          "text": [
            "2\n"
          ]
        }
      ],
      "source": [
        "def match_words(words):\n",
        "  ctr = 0\n",
        "\n",
        "  for word in words:\n",
        "    if len(word) > 1 and word[0] == word[-1]:\n",
        "      ctr += 1\n",
        "  return ctr\n",
        "\n",
        "print(match_words(['ab', 'aba', 'abaa', 'baba']))"
      ]
    },
    {
      "cell_type": "markdown",
      "metadata": {
        "id": "HvOyinUkTvzg"
      },
      "source": [
        "9) Write a Python program to check a list is empty or not."
      ]
    },
    {
      "cell_type": "code",
      "execution_count": null,
      "metadata": {
        "colab": {
          "base_uri": "https://localhost:8080/"
        },
        "id": "rd_bWCVyTzN3",
        "outputId": "43794887-e620-4581-9237-14db42b798b1"
      },
      "outputs": [
        {
          "name": "stdout",
          "output_type": "stream",
          "text": [
            "List is empty\n"
          ]
        }
      ],
      "source": [
        "l = []\n",
        "if not l:\n",
        "  print(\"List is empty\")"
      ]
    },
    {
      "cell_type": "markdown",
      "metadata": {
        "id": "cEWlvR90T8Je"
      },
      "source": [
        "10) Write a Python program to take both strings and numbers in a list\n",
        "\n",
        "a)create separate lists of strings and numbers.\n",
        "\n",
        "b)Sort the strings list in ascending order\n",
        "\n",
        "c)Sort the strings list in descending order\n",
        "\n",
        "d)Sort the number list from lowest to highest\n",
        "\n",
        "e)Sort the number list from highest to lowest"
      ]
    },
    {
      "cell_type": "code",
      "execution_count": null,
      "metadata": {
        "colab": {
          "base_uri": "https://localhost:8080/"
        },
        "id": "g6Ls-1C0UDe1",
        "outputId": "ac051058-d578-4283-bc8a-e595ed1f64f7"
      },
      "outputs": [
        {
          "name": "stdout",
          "output_type": "stream",
          "text": [
            "numbers :  [4, 1, 3]\n",
            "string : ['a', 'b', 'c', 'd']\n",
            "sorted string in ascending order : ['a', 'b', 'c', 'd', 'e', 'f']\n",
            "ssrokkggfeeee\n"
          ]
        }
      ],
      "source": [
        "myList = [ 4,'a', 'b', 'c', 1, 'd', 3]\n",
        "\n",
        "myIntList = [x for x in myList if isinstance(x, int)]\n",
        "print(\"numbers : \",myIntList)\n",
        "\n",
        "myStrList = [x for x in myList if isinstance(x, str)]\n",
        "print(\"string :\",myStrList)\n",
        "\n",
        "org_str = 'cefbad'\n",
        "new_str_list = sorted(org_str)\n",
        "print(\"sorted string in ascending order :\",new_str_list)\n"
      ]
    },
    {
      "cell_type": "markdown",
      "metadata": {
        "id": "kJ6Rl1n9WXu6"
      },
      "source": [
        "11) Write a program to add two lists index-wise. Create a new list that\n",
        "contains the 0th index item from both the list, then the 1st index item, and so\n",
        "on till the last element. any leftover items will get added at the end of the\n",
        "new list."
      ]
    },
    {
      "cell_type": "code",
      "execution_count": null,
      "metadata": {
        "colab": {
          "base_uri": "https://localhost:8080/"
        },
        "id": "7gVDl1_7WaaE",
        "outputId": "7037634a-f1a2-4053-bf67-e7b7ee64971a"
      },
      "outputs": [
        {
          "name": "stdout",
          "output_type": "stream",
          "text": [
            "[5, 7, 9]\n"
          ]
        }
      ],
      "source": [
        "list1 = [1, 2, 3]\n",
        "list2 = [4, 5, 6]\n",
        "\n",
        "sum_list = [a + b for a, b in zip(list1, list2)]\n",
        "\n",
        "print(sum_list)"
      ]
    },
    {
      "cell_type": "markdown",
      "metadata": {
        "id": "zfgj0y5FWh1K"
      },
      "source": [
        "12)Given a Python list, write a program to remove all occurrences of item 20."
      ]
    },
    {
      "cell_type": "code",
      "execution_count": null,
      "metadata": {
        "colab": {
          "base_uri": "https://localhost:8080/"
        },
        "id": "EcRbyRZnWl6j",
        "outputId": "9d265c68-5444-4f79-f821-39c072d22707"
      },
      "outputs": [
        {
          "name": "stdout",
          "output_type": "stream",
          "text": [
            "[5, 15, 25, 50]\n"
          ]
        }
      ],
      "source": [
        "mylist = [5, 20, 15, 20, 25, 50, 20]\n",
        "r_item = 20\n",
        "\n",
        "for item in mylist:\n",
        "\tif(item==r_item):\n",
        "\t\tmylist.remove(r_item)\n",
        "\n",
        "print(mylist)"
      ]
    },
    {
      "cell_type": "markdown",
      "metadata": {
        "id": "75CnkuctWrfx"
      },
      "source": [
        "**TUPLE**"
      ]
    },
    {
      "cell_type": "markdown",
      "metadata": {
        "id": "LpuCOFuvWuZG"
      },
      "source": [
        "1. Write a Python program to convert a tuple to a string."
      ]
    },
    {
      "cell_type": "code",
      "execution_count": null,
      "metadata": {
        "colab": {
          "base_uri": "https://localhost:8080/"
        },
        "id": "Ali_dtBQWyJ7",
        "outputId": "cced86a9-81c1-42ea-d4b9-6fdecc461a6a"
      },
      "outputs": [
        {
          "name": "stdout",
          "output_type": "stream",
          "text": [
            "Tuple Items =  ('p', 'y', 't', 'h', 'o', 'n')\n",
            "String from Tuple =  python\n"
          ]
        }
      ],
      "source": [
        "strTuple = ('p', 'y', 't', 'h', 'o', 'n')\n",
        "print(\"Tuple Items = \", strTuple)\n",
        "\n",
        "stringVal = ''.join(strTuple)\n",
        "print(\"String from Tuple = \", stringVal)"
      ]
    },
    {
      "cell_type": "markdown",
      "metadata": {
        "id": "rG9hXAizXElP"
      },
      "source": [
        "2. Write a Python program to find the repeated items of a tuple"
      ]
    },
    {
      "cell_type": "code",
      "execution_count": null,
      "metadata": {
        "colab": {
          "base_uri": "https://localhost:8080/"
        },
        "id": "enGqJ7WrXH0Z",
        "outputId": "c1a5e2be-2ecf-466d-9287-37c70b9a3586"
      },
      "outputs": [
        {
          "name": "stdout",
          "output_type": "stream",
          "text": [
            "REPEATED ITEM OF TUPLE :  4\n"
          ]
        }
      ],
      "source": [
        "tuple = 2, 4, 5, 6, 2, 3, 4, 4, 7 ,4\n",
        "\n",
        "count = tuple.count(4)\n",
        "print(\"REPEATED ITEM OF TUPLE : \",count)"
      ]
    },
    {
      "cell_type": "markdown",
      "metadata": {
        "id": "puak7HOrXfJj"
      },
      "source": [
        "3. Write a Python program to convert a list to a tuple.."
      ]
    },
    {
      "cell_type": "code",
      "source": [
        "def convert(list):\n",
        "    return (*list, )\n",
        "  \n",
        "list = [1, 2, 3, 4]\n",
        "print(convert(list))"
      ],
      "metadata": {
        "colab": {
          "base_uri": "https://localhost:8080/"
        },
        "id": "ZEC-zfwHbLxD",
        "outputId": "c86611e4-5891-45ae-8614-b5bb39717cae"
      },
      "execution_count": null,
      "outputs": [
        {
          "output_type": "stream",
          "name": "stdout",
          "text": [
            "(1, 2, 3, 4)\n"
          ]
        }
      ]
    },
    {
      "cell_type": "markdown",
      "source": [
        "4. Write a Python program to reverse a tuple."
      ],
      "metadata": {
        "id": "BwyiQ_KYY1iz"
      }
    },
    {
      "cell_type": "code",
      "source": [
        "t = (1, 2, 'Python', 'Java', 77, 10)  \n",
        "\n",
        "print(\"The original tuple is: \", t)  \n",
        "\n",
        "t = t[::-1]  \n",
        " \n",
        "print(\"The reversed tuple is: \", t)  \n"
      ],
      "metadata": {
        "colab": {
          "base_uri": "https://localhost:8080/"
        },
        "id": "Pil47y_dY46-",
        "outputId": "f680d8f3-3b4a-41c8-f720-c40f6c62b404"
      },
      "execution_count": null,
      "outputs": [
        {
          "output_type": "stream",
          "name": "stdout",
          "text": [
            "The original tuple is:  (1, 2, 'Python', 'Java', 77, 10)\n",
            "The reversed tuple is:  (10, 77, 'Java', 'Python', 2, 1)\n"
          ]
        }
      ]
    },
    {
      "cell_type": "markdown",
      "source": [
        "5. Write a Python program to remove an empty tuple(s) from a list of tuples"
      ],
      "metadata": {
        "id": "NDi-d_b-cunb"
      }
    },
    {
      "cell_type": "code",
      "source": [
        "def rem(li):\n",
        "    li=[ num for num in li if num]\n",
        "    return li\n",
        "\n",
        "li=[ (), ( '1', '2'), (), ('3', '4', '5', '6') ]\n",
        "print(rem(li))"
      ],
      "metadata": {
        "colab": {
          "base_uri": "https://localhost:8080/"
        },
        "id": "ZD00YLzZc0RM",
        "outputId": "e7e24ac1-ed87-4398-d14c-15553019b02b"
      },
      "execution_count": null,
      "outputs": [
        {
          "output_type": "stream",
          "name": "stdout",
          "text": [
            "[('1', '2'), ('3', '4', '5', '6')]\n"
          ]
        }
      ]
    },
    {
      "cell_type": "markdown",
      "source": [
        "6. Write a Python program to replace last value of tuples in a list."
      ],
      "metadata": {
        "id": "MkHk2YYxdVmV"
      }
    },
    {
      "cell_type": "code",
      "source": [
        "l = [(10, 20, 40), (40, 50, 60), (70, 80, 90)]\n",
        "\n",
        "print([t[:-1] + (100,) for t in l])"
      ],
      "metadata": {
        "colab": {
          "base_uri": "https://localhost:8080/"
        },
        "id": "ujyhNFLQdZgj",
        "outputId": "ed97b13a-03f4-44ea-e728-2364926af839"
      },
      "execution_count": null,
      "outputs": [
        {
          "output_type": "stream",
          "name": "stdout",
          "text": [
            "[(10, 20, 100), (40, 50, 100), (70, 80, 100)]\n"
          ]
        }
      ]
    },
    {
      "cell_type": "markdown",
      "source": [
        "7. Write a Python program to get the 5th element and 5th element from last of a\n",
        "tuple."
      ],
      "metadata": {
        "id": "kzhNE3gweSFj"
      }
    },
    {
      "cell_type": "code",
      "source": [
        "a=(1,2,3,4,5,6,7,8,9,10,11)\n",
        "\n",
        "print(\"Fifth element from first: \",a[4])\n",
        "\n",
        "print(\"Fifth element from last: \",a[-5])"
      ],
      "metadata": {
        "colab": {
          "base_uri": "https://localhost:8080/"
        },
        "id": "v_ndPtWieVEg",
        "outputId": "d64fecf5-4d30-4b7d-c454-18a706752708"
      },
      "execution_count": null,
      "outputs": [
        {
          "output_type": "stream",
          "name": "stdout",
          "text": [
            "Fifth element from first:  5\n",
            "Fifth element from last:  7\n"
          ]
        }
      ]
    },
    {
      "cell_type": "markdown",
      "source": [
        "8. Write a Python program to check if two given sets have no elements in common."
      ],
      "metadata": {
        "id": "EKpEiVRWem3z"
      }
    },
    {
      "cell_type": "code",
      "source": [
        "x = {1,2,3,4}\n",
        "y = {4,5,6,7}\n",
        "z = {8}\n",
        "print(\"Original set elements:\")\n",
        "print(x)\n",
        "print(y)\n",
        "print(z)\n",
        "print(\"\\nConfirm two given sets have no element(s) in common:\")\n",
        "print(\"\\nCompare x and y:\")\n",
        "print(x.isdisjoint(y))\n",
        "print(\"\\nCompare x and z:\")\n",
        "print(z.isdisjoint(x))\n",
        "print(\"\\nCompare y and z:\")\n",
        "print(y.isdisjoint(z))"
      ],
      "metadata": {
        "colab": {
          "base_uri": "https://localhost:8080/"
        },
        "id": "8LKrI1-HerZg",
        "outputId": "6e9c8e38-1c40-4878-b449-c5c9420d4357"
      },
      "execution_count": null,
      "outputs": [
        {
          "output_type": "stream",
          "name": "stdout",
          "text": [
            "Original set elements:\n",
            "{1, 2, 3, 4}\n",
            "{4, 5, 6, 7}\n",
            "{8}\n",
            "\n",
            "Confirm two given sets have no element(s) in common:\n",
            "\n",
            "Compare x and y:\n",
            "False\n",
            "\n",
            "Compare x and z:\n",
            "True\n",
            "\n",
            "Compare y and z:\n",
            "True\n"
          ]
        }
      ]
    },
    {
      "cell_type": "markdown",
      "source": [
        "9. Write a Python program to check whether an element exists within a tuple."
      ],
      "metadata": {
        "id": "v-7yjtCXfgWY"
      }
    },
    {
      "cell_type": "code",
      "source": [
        "tuplex = (\"p\", \"y\", \"t\", \"h\", \"o\", \"n\")\n",
        "print(\"o\" in tuplex)\n",
        "print(\"z\" in tuplex)"
      ],
      "metadata": {
        "colab": {
          "base_uri": "https://localhost:8080/"
        },
        "id": "fu0jyBkpfSDz",
        "outputId": "3c800e26-2ce7-4233-bdd5-4fe4c6117336"
      },
      "execution_count": null,
      "outputs": [
        {
          "output_type": "stream",
          "name": "stdout",
          "text": [
            "True\n",
            "False\n"
          ]
        }
      ]
    },
    {
      "cell_type": "markdown",
      "source": [
        "10. Write a Python program to check if a given value is present in a set or not."
      ],
      "metadata": {
        "id": "ICVGTl7pf0Cp"
      }
    },
    {
      "cell_type": "code",
      "source": [
        "nums = {1, 3, 5, 7, 99, 20}\n",
        "print(\"Original sets(nums): \",nums,\"\\n\")\n",
        "\n",
        "print(\"Test if 6 exists in nums:\")\n",
        "print(6 in nums)\n",
        "\n",
        "print(\"Test if 7 exists in nums:\")\n",
        "print(7 in nums)\n",
        "\n",
        "print(\"Test if 11 exists in nums:\")\n",
        "print(11 in nums)\n"
      ],
      "metadata": {
        "colab": {
          "base_uri": "https://localhost:8080/"
        },
        "id": "QT8p1fz0f3Mi",
        "outputId": "363acb80-9150-4c41-a7c5-f2de45a140bd"
      },
      "execution_count": null,
      "outputs": [
        {
          "output_type": "stream",
          "name": "stdout",
          "text": [
            "Original sets(nums):  {1, 99, 3, 5, 7, 20} \n",
            "\n",
            "Test if 6 exists in nums:\n",
            "False\n",
            "Test if 7 exists in nums:\n",
            "True\n",
            "Test if 11 exists in nums:\n",
            "False\n"
          ]
        }
      ]
    },
    {
      "cell_type": "markdown",
      "source": [
        "11. Write a Python program to check if a given set is superset of itself and superset of another given set."
      ],
      "metadata": {
        "id": "D0Ru58qwgsIh"
      }
    },
    {
      "cell_type": "code",
      "source": [
        "nums = {10,20,30,40,50}\n",
        "print(\"Original set: \",nums)\n",
        "print(\"If nums is superset of itself?\")\n",
        "print(nums.issuperset(nums))\n",
        "num1 = {1, 2, 3, 4, 5, 7}\n",
        "num2 = {2, 4}\n",
        "num3 = {2, 4}\n",
        "print(\"\\nnum1 = \", num1)\n",
        "print(\"num2 = \", num2)\n",
        "print(\"num3 = \", num3)\n",
        "\n",
        "print(\"If mum1 is superset of num2:\")\n",
        "print(num1>num2)\n",
        "\n",
        "print(\"Compare mum2 and num3:\")\n",
        "print(\"If mum2 is superset of num3:\")\n",
        "print(num2>num3)\n",
        "\n",
        "print(\"If mum3 is superset of num2:\")\n",
        "print(num3>num2)"
      ],
      "metadata": {
        "colab": {
          "base_uri": "https://localhost:8080/"
        },
        "id": "8qiabaTegtw6",
        "outputId": "3cb5a739-f5c6-4a63-cc12-c04dc1e90b68"
      },
      "execution_count": null,
      "outputs": [
        {
          "output_type": "stream",
          "name": "stdout",
          "text": [
            "Original set:  {40, 10, 50, 20, 30}\n",
            "If nums is superset of itself?\n",
            "True\n",
            "\n",
            "num1 =  {1, 2, 3, 4, 5, 7}\n",
            "num2 =  {2, 4}\n",
            "num3 =  {2, 4}\n",
            "If mum1 is superset of num2:\n",
            "True\n",
            "Compare mum2 and num3:\n",
            "If mum2 is superset of num3:\n",
            "False\n",
            "If mum3 is superset of num2:\n",
            "False\n"
          ]
        }
      ]
    },
    {
      "cell_type": "markdown",
      "source": [
        "12. Write a Python program to create a union, intersection, difference, symmetric\n",
        "difference of sets."
      ],
      "metadata": {
        "id": "5p8tDAFIhVAl"
      }
    },
    {
      "cell_type": "code",
      "source": [
        "A = {0, 2, 4, 6, 8};\n",
        "B = {1, 2, 3, 4, 5};\n",
        "  \n",
        "# union\n",
        "print(\"Union :\", A | B)\n",
        "  \n",
        "# intersection\n",
        "print(\"Intersection :\", A & B)\n",
        "  \n",
        "# difference\n",
        "print(\"Difference :\", A - B)\n",
        "  \n",
        "# symmetric difference\n",
        "print(\"Symmetric difference :\", A ^ B)"
      ],
      "metadata": {
        "colab": {
          "base_uri": "https://localhost:8080/"
        },
        "id": "UeFjLoqKhWri",
        "outputId": "a035b957-8c87-43ad-a86f-a1cc14b60585"
      },
      "execution_count": null,
      "outputs": [
        {
          "output_type": "stream",
          "name": "stdout",
          "text": [
            "Union : {0, 1, 2, 3, 4, 5, 6, 8}\n",
            "Intersection : {2, 4}\n",
            "Difference : {0, 8, 6}\n",
            "Symmetric difference : {0, 1, 3, 5, 6, 8}\n"
          ]
        }
      ]
    },
    {
      "cell_type": "markdown",
      "source": [
        "13. Write a Python program to remove the intersection of a 2nd set from the 1st set."
      ],
      "metadata": {
        "id": "EGwjkXA1hvzh"
      }
    },
    {
      "cell_type": "code",
      "source": [
        "sn1 = {1,2,3,4,5}\n",
        "sn2 = {4,5,6,7,8}\n",
        "print(\"Original sets:\")\n",
        "print(sn1)\n",
        "print(sn2)\n",
        "print(\"\\nRemove the intersection of a 2nd set from the 1st set using difference_update():\")\n",
        "sn1.difference_update(sn2)\n",
        "print(\"sn1: \",sn1)\n",
        "print(\"sn2: \",sn2)\n",
        "sn1 = {1,2,3,4,5}\n",
        "sn2 = {4,5,6,7,8}\n",
        "print(\"\\nRemove the intersection of a 2nd set from the 1st set using -= operator:\")\n",
        "sn1-=sn2\n",
        "print(\"sn1: \",sn1)\n",
        "print(\"sn2: \",sn2)"
      ],
      "metadata": {
        "colab": {
          "base_uri": "https://localhost:8080/"
        },
        "id": "dFYtKi3dhw05",
        "outputId": "0916c35d-f2a1-4123-dee8-8ed542b7a38f"
      },
      "execution_count": null,
      "outputs": [
        {
          "output_type": "stream",
          "name": "stdout",
          "text": [
            "Original sets:\n",
            "{1, 2, 3, 4, 5}\n",
            "{4, 5, 6, 7, 8}\n",
            "\n",
            "Remove the intersection of a 2nd set from the 1st set using difference_update():\n",
            "sn1:  {1, 2, 3}\n",
            "sn2:  {4, 5, 6, 7, 8}\n",
            "\n",
            "Remove the intersection of a 2nd set from the 1st set using -= operator:\n",
            "sn1:  {1, 2, 3}\n",
            "sn2:  {4, 5, 6, 7, 8}\n"
          ]
        }
      ]
    },
    {
      "cell_type": "markdown",
      "source": [
        "**DICTIONARY**"
      ],
      "metadata": {
        "id": "GwPpQpiqgkfI"
      }
    },
    {
      "cell_type": "markdown",
      "source": [
        "1) Write a Python program to multiply all the items in a dictionary."
      ],
      "metadata": {
        "id": "xU2AG8SYkWfw"
      }
    },
    {
      "cell_type": "code",
      "source": [
        "d={'A':2,'B':100,'C':24}\n",
        "t=1\n",
        "for i in d:    \n",
        "    t=t*d[i]\n",
        "\n",
        "print(t)"
      ],
      "metadata": {
        "colab": {
          "base_uri": "https://localhost:8080/"
        },
        "id": "nRbKyTFCkcKb",
        "outputId": "3c727ed0-92c1-4449-9b81-1dcb8d39101e"
      },
      "execution_count": null,
      "outputs": [
        {
          "output_type": "stream",
          "name": "stdout",
          "text": [
            "4800\n"
          ]
        }
      ]
    },
    {
      "cell_type": "markdown",
      "source": [
        "2) Write a Python program to remove duplicates from Dictionary."
      ],
      "metadata": {
        "id": "uap7mD5ek1gr"
      }
    },
    {
      "cell_type": "code",
      "source": [
        "dict1 = {'A': 30, 'B': 30, 'C': 20, 'D': 10, 'E': 54}\n",
        "\n",
        "temp = []\n",
        "res = dict()\n",
        "\n",
        "for key, val in dict1.items():\n",
        "    if val not in temp:\n",
        "        temp.append(val)\n",
        "        res[key] = val\n",
        "\n",
        "print(res)"
      ],
      "metadata": {
        "colab": {
          "base_uri": "https://localhost:8080/"
        },
        "id": "cgwcpwz9k4lc",
        "outputId": "2ba7dc07-2e0e-4b0f-9a20-b00bd5ea7f18"
      },
      "execution_count": null,
      "outputs": [
        {
          "output_type": "stream",
          "name": "stdout",
          "text": [
            "{'A': 30, 'C': 20, 'D': 10, 'E': 54}\n"
          ]
        }
      ]
    },
    {
      "cell_type": "markdown",
      "source": [
        "3) Write a Python program to combine two dictionary adding values for common\n",
        "keys.\n",
        "\n",
        "dict1 = {'k1': 10, 'k2': 20, 'k3':30}\n",
        "\n",
        "dict2 = {'k1': 30, 'k2': 20, 'k4':40}\n",
        "\n",
        "Sample output: Counter({'k1': 40, 'k2': 40, 'k4': 40})"
      ],
      "metadata": {
        "id": "3vyky4VelcrI"
      }
    },
    {
      "cell_type": "code",
      "source": [
        "dict1 = {'k1': 10, 'k2': 20, 'k3':30}\n",
        "dict2 = {'k1': 30, 'k2': 20, 'k4':40}\n",
        "\n",
        "for key in dict2:\n",
        "    if key in dict1:\n",
        "        dict2[key] = dict2[key] + dict1[key]\n",
        "    else:\n",
        "        pass\n",
        "          \n",
        "print(dict2)"
      ],
      "metadata": {
        "colab": {
          "base_uri": "https://localhost:8080/"
        },
        "id": "05tJdKn8lmnU",
        "outputId": "2c62c409-6088-41cd-8d0c-b5cec7b37cc2"
      },
      "execution_count": null,
      "outputs": [
        {
          "output_type": "stream",
          "name": "stdout",
          "text": [
            "{'k1': 40, 'k2': 40, 'k4': 40}\n"
          ]
        }
      ]
    },
    {
      "cell_type": "markdown",
      "source": [
        "4) Write a Python program to find the highest 3 values of corresponding keys in\n",
        "a dictionary."
      ],
      "metadata": {
        "id": "FqgosAYGmHLw"
      }
    },
    {
      "cell_type": "code",
      "source": [
        "from heapq import nlargest\n",
        "\n",
        "my_dict = {'a':340, 'b':50, 'c': 560,'d':40, 'e':560, 'f': 20} \n",
        "\n",
        "l = nlargest(3, my_dict, key=my_dict.get)\n",
        "print(l) "
      ],
      "metadata": {
        "colab": {
          "base_uri": "https://localhost:8080/"
        },
        "id": "lFdWDosQmKEU",
        "outputId": "9a5b0641-b0a9-41d1-de0e-c4279454fd06"
      },
      "execution_count": null,
      "outputs": [
        {
          "output_type": "stream",
          "name": "stdout",
          "text": [
            "['c', 'e', 'a']\n"
          ]
        }
      ]
    },
    {
      "cell_type": "markdown",
      "source": [
        "5) Write a Python program to create a dictionary from a string.\n",
        "Note: Track the count of the letters from the string.\n",
        "\n",
        "Sample string : 'amazon'\n",
        "\n",
        "Expected output: {'a': 2, 'm': 1, 'z': t, 'o': 2, 'n': 1}"
      ],
      "metadata": {
        "id": "fctgf2vxm044"
      }
    },
    {
      "cell_type": "code",
      "source": [
        "from collections import defaultdict, Counter\n",
        "\n",
        "s = 'amazon' \n",
        "my_dict = {}\n",
        "\n",
        "for letter in s:\n",
        "    my_dict[letter] = my_dict.get(letter, 0) + 1\n",
        "\n",
        "print(my_dict)"
      ],
      "metadata": {
        "colab": {
          "base_uri": "https://localhost:8080/"
        },
        "id": "WMKmVzSCm5JY",
        "outputId": "84fb79cf-f01d-486b-b640-601cd089531e"
      },
      "execution_count": null,
      "outputs": [
        {
          "output_type": "stream",
          "name": "stdout",
          "text": [
            "{'a': 2, 'm': 1, 'z': 1, 'o': 1, 'n': 1}\n"
          ]
        }
      ]
    },
    {
      "cell_type": "markdown",
      "source": [
        "6) Write a Python program to print a dictionary line by line."
      ],
      "metadata": {
        "id": "WVIRrZ72nQ4u"
      }
    },
    {
      "cell_type": "code",
      "source": [
        "s = {'Aisha':{'class':'10','roll_no':1},'Ripsa':{'class':'8','roll_no':5}}\n",
        "for a in s:\n",
        "    print(a)\n",
        "    for b in s[a]:\n",
        "        print (b,':',s[a][b])"
      ],
      "metadata": {
        "colab": {
          "base_uri": "https://localhost:8080/"
        },
        "id": "Wwz8zJQknRxZ",
        "outputId": "b96eb9fb-3223-45aa-c098-51dc3773530d"
      },
      "execution_count": null,
      "outputs": [
        {
          "output_type": "stream",
          "name": "stdout",
          "text": [
            "Aisha\n",
            "class : 10\n",
            "roll_no : 1\n",
            "Ripsa\n",
            "class : 8\n",
            "roll_no : 5\n"
          ]
        }
      ]
    },
    {
      "cell_type": "markdown",
      "source": [
        "7) Write a Python program to replace dictionary values with their average."
      ],
      "metadata": {
        "id": "LzXNt3xjn8lC"
      }
    },
    {
      "cell_type": "code",
      "source": [
        "def av(list_of_dicts):\n",
        "    for d in list_of_dicts:\n",
        "        n1 = d.pop('V')\n",
        "        n2 = d.pop('VI')\n",
        "        d['V+VI'] = (n1 + n2)/2\n",
        "    return list_of_dicts \n",
        "\n",
        "stud= [{'id' : 1, 'subject' : 'math', 'V' : 70, 'VI' : 82},{'id' : 2, 'subject' : 'math', 'V' : 73, 'VI' : 74},{'id' : 3, 'subject' : 'math', 'V' : 75, 'VI' : 86}]\n",
        "print(av(stud))"
      ],
      "metadata": {
        "colab": {
          "base_uri": "https://localhost:8080/"
        },
        "id": "OgZLWpytn_pL",
        "outputId": "13398653-33e7-42d9-9527-3b1ac83f3f87"
      },
      "execution_count": null,
      "outputs": [
        {
          "output_type": "stream",
          "name": "stdout",
          "text": [
            "[{'id': 1, 'subject': 'math', 'V+VI': 76.0}, {'id': 2, 'subject': 'math', 'V+VI': 73.5}, {'id': 3, 'subject': 'math', 'V+VI': 80.5}]\n"
          ]
        }
      ]
    },
    {
      "cell_type": "markdown",
      "source": [
        "8) Write a Python program to drop empty Items from a given Dictionary.\n",
        "Original Dictionary:"
      ],
      "metadata": {
        "id": "Bfl3BzYso2tR"
      }
    },
    {
      "cell_type": "code",
      "source": [
        "dict1 = {'c1': 'CS', 'c2': 'IT', 'c3': None}\n",
        "print(\"Original Dictionary :\")\n",
        "print(dict1)\n",
        "\n",
        "print(\"New Dictionary after dropping empty items :\")\n",
        "\n",
        "dict1 = {key:value for (key, value) in dict1.items() if value is not None}\n",
        "print(dict1)"
      ],
      "metadata": {
        "colab": {
          "base_uri": "https://localhost:8080/"
        },
        "id": "hneMnrXOo6Mm",
        "outputId": "0c88b8b2-f366-429a-b2f5-7612fa9ff28f"
      },
      "execution_count": null,
      "outputs": [
        {
          "output_type": "stream",
          "name": "stdout",
          "text": [
            "Original Dictionary :\n",
            "{'c1': 'CS', 'c2': 'IT', 'c3': None}\n",
            "New Dictionary after dropping empty items :\n",
            "{'c1': 'CS', 'c2': 'IT'}\n"
          ]
        }
      ]
    },
    {
      "cell_type": "markdown",
      "source": [
        "9) Write a Python program to filter the height and width of students, which are\n",
        "stored in a dictionary.\n"
      ],
      "metadata": {
        "id": "t5SqZ1H7pXtx"
      }
    },
    {
      "cell_type": "code",
      "source": [
        "def filter_data(s):\n",
        "    result = dict(filter(lambda x: (x[1][0], x[1][1]) > (6.0, 70), s.items()))\n",
        "    return result \n",
        "\n",
        "s = {'Ram': (6.2, 70), 'Sita': (5.9, 65), 'Hari': (6.0, 68), 'Gopal': (5.8, 66)}\n",
        "\n",
        "print(\"Original Dictionary:\")\n",
        "print(s)\n",
        "\n",
        "print(\"\\nHeight> 6ft and Weight> 65kg:\")\n",
        "print(filter_data(s))\n"
      ],
      "metadata": {
        "colab": {
          "base_uri": "https://localhost:8080/"
        },
        "id": "yUHoeT8fpZMw",
        "outputId": "cdc87c00-824e-4143-acc4-ff823ba7045b"
      },
      "execution_count": null,
      "outputs": [
        {
          "output_type": "stream",
          "name": "stdout",
          "text": [
            "Original Dictionary:\n",
            "{'Ram': (6.2, 70), 'Sita': (5.9, 65), 'Hari': (6.0, 68), 'Gopal': (5.8, 66)}\n",
            "\n",
            "Height> 6ft and Weight> 65kg:\n",
            "{'Ram': (6.2, 70)}\n"
          ]
        }
      ]
    }
  ],
  "metadata": {
    "colab": {
      "collapsed_sections": [],
      "name": "Lab2(TandT).ipynb",
      "provenance": []
    },
    "kernelspec": {
      "display_name": "Python 3",
      "name": "python3"
    },
    "language_info": {
      "name": "python"
    }
  },
  "nbformat": 4,
  "nbformat_minor": 0
}