{
  "nbformat": 4,
  "nbformat_minor": 0,
  "metadata": {
    "colab": {
      "name": "Lab1(TandT).ipynb",
      "provenance": [],
      "collapsed_sections": []
    },
    "kernelspec": {
      "name": "python3",
      "display_name": "Python 3"
    },
    "language_info": {
      "name": "python"
    }
  },
  "cells": [
    {
      "cell_type": "markdown",
      "source": [
        "# LAB 1"
      ],
      "metadata": {
        "id": "CMKvlWj2Qfvk"
      }
    },
    {
      "cell_type": "markdown",
      "source": [
        "1)Write a Python program(WAPP) to input any two integers, and provide a menu to the\n",
        "user to select any of the options as add, subtract, multiply, divide and display the result\n",
        "accordingly.\n"
      ],
      "metadata": {
        "id": "dgBa7n-IQbGQ"
      }
    },
    {
      "cell_type": "code",
      "source": [
        "x = int(input(\"Enter First Number: \"))\n",
        "y = int(input(\"Enter Second Number: \"))\n",
        "c = input(\"Enter any of these specific operation +,-,*,/: \")\n",
        "\n",
        "result = 0\n",
        "if c == '+':\n",
        "    result = x + y\n",
        "elif c == '-':\n",
        "    result = x - y\n",
        "elif c == '*':\n",
        "    result = x * y\n",
        "elif c == '/':\n",
        "    result = x / y\n",
        "else:\n",
        "    print(\"no such operation is available !\")\n",
        "\n",
        "print(x, c , y, \":\", result)"
      ],
      "metadata": {
        "colab": {
          "base_uri": "https://localhost:8080/"
        },
        "id": "krs7f76MSCAA",
        "outputId": "faebd947-b6c6-4fcf-8969-b269d37729c8"
      },
      "execution_count": null,
      "outputs": [
        {
          "output_type": "stream",
          "name": "stdout",
          "text": [
            "Enter First Number: 10\n",
            "Enter Second Number: 20\n",
            "Enter any of these specific operation +,-,*,/: +\n",
            "10 + 20 : 30\n"
          ]
        }
      ]
    },
    {
      "cell_type": "markdown",
      "source": [
        "2)WAPP to check if a year is leap year or not.\n"
      ],
      "metadata": {
        "id": "PM0KtUikSrNa"
      }
    },
    {
      "cell_type": "code",
      "source": [
        "year=int(input(\"Enter year : \"))\n",
        "if (year % 4) == 0:\n",
        "        if (year % 100) == 0:\n",
        "            if (year % 400) == 0:\n",
        "              printf(year , \"is leap year\")\n",
        "else :\n",
        "  print(year, \"not a leap year\")"
      ],
      "metadata": {
        "colab": {
          "base_uri": "https://localhost:8080/"
        },
        "id": "teBnEgH0SwA_",
        "outputId": "5c21a4fd-1ced-40b7-c904-8c38c8930a1a"
      },
      "execution_count": null,
      "outputs": [
        {
          "output_type": "stream",
          "name": "stdout",
          "text": [
            "Enter year : 2022\n",
            "2022 not a leap year\n"
          ]
        }
      ]
    },
    {
      "cell_type": "markdown",
      "source": [
        "3)WAPP to convert temperature from centigrade to Fahrenheit scale."
      ],
      "metadata": {
        "id": "vqig4_R9UVti"
      }
    },
    {
      "cell_type": "code",
      "source": [
        "temp = float(input(\"Enter temp in 0c\"))\n",
        "fahrenheit=0\n",
        "fahrenheit = (temp * 9 / 5) + 32\n",
        "print(fahrenheit)"
      ],
      "metadata": {
        "colab": {
          "base_uri": "https://localhost:8080/"
        },
        "id": "Unbtjd9jUdA2",
        "outputId": "91da8bf1-d4c5-420b-fad1-055ab2a44b40"
      },
      "execution_count": null,
      "outputs": [
        {
          "output_type": "stream",
          "name": "stdout",
          "text": [
            "Enter temp in 0c100\n",
            "212.0\n"
          ]
        }
      ]
    },
    {
      "cell_type": "markdown",
      "source": [
        "4)WAPP to add two times in hour, minute & second format entered through the\n",
        "keyboard."
      ],
      "metadata": {
        "id": "NQ0PJAUNVUEe"
      }
    },
    {
      "cell_type": "code",
      "source": [
        "print(\"Enter time 1\")\n",
        "\n",
        "hour1=int(input(\"Enter time in hours :\"))\n",
        "min1=int(input(\"Enter time in min :\"))\n",
        "sec1=int(input(\"Enter time in sec\"))\n",
        "\n",
        "print(\"Enter time 2\")\n",
        "\n",
        "hour2=int(input(\"Enter time in hours :\"))\n",
        "min2=int(input(\"Enter time in min :\"))\n",
        "sec2=int(input(\"Enter time in sec\"))\n",
        "\n",
        "hour3=hour1+hour2+(min1+min2+(sec1+sec2)//60)//60\n",
        "min3=(min1+min2+(sec1+sec2)//60)%60\n",
        "sec3=(sec1+sec2)%60\n",
        "\n",
        "print(\"Total Time :\",hour3,\" Hours, \",min3,\" Minutes and \",sec3,\"Seconds\")\n",
        "\n"
      ],
      "metadata": {
        "colab": {
          "base_uri": "https://localhost:8080/"
        },
        "id": "WPGK2vq9VVhI",
        "outputId": "1fa9f894-6781-4af4-b768-9e7655c8be26"
      },
      "execution_count": null,
      "outputs": [
        {
          "output_type": "stream",
          "name": "stdout",
          "text": [
            "Enter time 1\n",
            "Enter time in hours :2\n",
            "Enter time in min :33\n",
            "Enter time in sec44\n",
            "Enter time 2\n",
            "Enter time in hours :2\n",
            "Enter time in min :9\n",
            "Enter time in sec88\n",
            "Total Time : 4  Hours,  44  Minutes and  12 Seconds\n"
          ]
        }
      ]
    },
    {
      "cell_type": "markdown",
      "source": [
        "5)WAPP to check if the given number is Armstrong or not."
      ],
      "metadata": {
        "id": "03UwYauaXgR7"
      }
    },
    {
      "cell_type": "code",
      "source": [
        "n = int(input(\"Enter a number: \"))\n",
        "s = 0\n",
        "t = n\n",
        "while t > 0:\n",
        "  digit = t % 10\n",
        "  s += digit ** 3\n",
        "  t //= 10\n",
        "\n",
        "if n == s:\n",
        "  print(n,\"is an Armstrong number\")\n",
        "else:\n",
        "  print(n,\"is not an Armstrong number\")\n"
      ],
      "metadata": {
        "colab": {
          "base_uri": "https://localhost:8080/"
        },
        "id": "uAQMcFyWXkAn",
        "outputId": "652cb79c-0624-48fa-cdfe-230946b7a5c9"
      },
      "execution_count": null,
      "outputs": [
        {
          "output_type": "stream",
          "name": "stdout",
          "text": [
            "Enter a number: 153\n",
            "153 is an Armstrong number\n"
          ]
        }
      ]
    },
    {
      "cell_type": "markdown",
      "source": [
        "6)WAPP to find out the factors of a number."
      ],
      "metadata": {
        "id": "l-NjtaQqYtp6"
      }
    },
    {
      "cell_type": "code",
      "source": [
        "number = int(input(\"Enter a number: \"))\n",
        "\n",
        "print(\"The factors are : \")\n",
        "\n",
        "for i in range(1,number+1):\n",
        "    if number % i == 0:\n",
        "        print(i)"
      ],
      "metadata": {
        "colab": {
          "base_uri": "https://localhost:8080/"
        },
        "id": "g5UhH16kYyu5",
        "outputId": "9c3aee2a-d2d5-4f34-90c8-1c29d26e79a2"
      },
      "execution_count": null,
      "outputs": [
        {
          "output_type": "stream",
          "name": "stdout",
          "text": [
            "Enter a number: 30\n",
            "The factors are : \n",
            "1\n",
            "2\n",
            "3\n",
            "5\n",
            "6\n",
            "10\n",
            "15\n",
            "30\n"
          ]
        }
      ]
    },
    {
      "cell_type": "markdown",
      "source": [
        "7)WAPP to print all even numbers between 100 to 200 using a loop."
      ],
      "metadata": {
        "id": "mQC-STFBZimt"
      }
    },
    {
      "cell_type": "code",
      "source": [
        "start, end = 100, 200\n",
        "  \n",
        "for num in range(start, end + 1):\n",
        "  if num % 2 == 0:\n",
        "    print(num, end = \" \")"
      ],
      "metadata": {
        "colab": {
          "base_uri": "https://localhost:8080/"
        },
        "id": "DwmOgqviZmm6",
        "outputId": "7689b22e-fe8c-42cc-9d10-189827791b29"
      },
      "execution_count": null,
      "outputs": [
        {
          "output_type": "stream",
          "name": "stdout",
          "text": [
            "100 102 104 106 108 110 112 114 116 118 120 122 124 126 128 130 132 134 136 138 140 142 144 146 148 150 152 154 156 158 160 162 164 166 168 170 172 174 176 178 180 182 184 186 188 190 192 194 196 198 200 "
          ]
        }
      ]
    },
    {
      "cell_type": "markdown",
      "source": [
        "8)WAPP to find LCM of 2 numbers using a while loop."
      ],
      "metadata": {
        "id": "1iHHV93taCmK"
      }
    },
    {
      "cell_type": "code",
      "source": [
        "p = int(input(\"Enter First Number: \"))\n",
        "q = int(input(\"Enter Second Number: \"))\n",
        "\n",
        "for i in range (1, p + 1):\n",
        "\tif i <= q:\n",
        "\t\tif p % i == 0 and q % i == 0:\n",
        "\t\t\tg = i\n",
        "\n",
        "x = (p * q) / g\n",
        "print (\"\\nThe LCM : \", x)"
      ],
      "metadata": {
        "colab": {
          "base_uri": "https://localhost:8080/"
        },
        "id": "wxgfbZY8aHA0",
        "outputId": "51400b25-8435-41d3-e611-10fb2cfc1fff"
      },
      "execution_count": null,
      "outputs": [
        {
          "output_type": "stream",
          "name": "stdout",
          "text": [
            "Enter First Number: 10\n",
            "Enter Second Number: 20\n",
            "\n",
            "The LCM :  20.0\n"
          ]
        }
      ]
    },
    {
      "cell_type": "markdown",
      "source": [
        "9)WAPP to find out the distance between two coordinates (x1, y1) & (x2, y2)."
      ],
      "metadata": {
        "id": "inlZNji3cXrE"
      }
    },
    {
      "cell_type": "code",
      "source": [
        "print(\"For {x1,y1) :\")\n",
        "x1=int(input(\"enter x1 : \"))\n",
        "y1=int(input(\"enter y1 : \"))\n",
        "\n",
        "print(\"For (x2,y2) :\")\n",
        "x2=int(input(\"enter x2 : \"))\n",
        "y2=int(input(\"enter y2 : \"))\n",
        "\n",
        "result= ((((x2-x1)**2) + ((y2-y1)**2))**0.5)\n",
        "\n",
        "print(\"distance between\",(x1,x2),\"and\",(y1,y2),\"is : \",result)"
      ],
      "metadata": {
        "colab": {
          "base_uri": "https://localhost:8080/"
        },
        "id": "FroYWdtHcczs",
        "outputId": "111eb9f3-134a-4231-ea5a-9883c84554bc"
      },
      "execution_count": null,
      "outputs": [
        {
          "output_type": "stream",
          "name": "stdout",
          "text": [
            "For {x1,y1) :\n",
            "enter x1 : 3\n",
            "enter y1 : 4\n",
            "For (x2,y2) :\n",
            "enter x2 : 7\n",
            "enter y2 : 5\n",
            "distance between (3, 7) and (4, 5) is :  4.123105625617661\n"
          ]
        }
      ]
    },
    {
      "cell_type": "markdown",
      "source": [
        "10)WAPP to find the multiplication table of any number using a for loop."
      ],
      "metadata": {
        "id": "PvMufhkndQPN"
      }
    },
    {
      "cell_type": "code",
      "source": [
        "n = int(input(\"Enter the number whose muliplication table is needed to be displayed : \"))      \n",
        "   \n",
        "print (\"The Multiplication Table of: \", n)    \n",
        "for i in range(1, 11):\n",
        "  print(n, 'x', i , '=', n*i)    "
      ],
      "metadata": {
        "colab": {
          "base_uri": "https://localhost:8080/"
        },
        "id": "g0V5-zEadVEv",
        "outputId": "bd94c091-86cb-442a-9884-eb19195b29c7"
      },
      "execution_count": null,
      "outputs": [
        {
          "output_type": "stream",
          "name": "stdout",
          "text": [
            "Enter the number of which the user wants to print the multiplication table: 2\n",
            "The Multiplication Table of:  2\n",
            "2 x 1 = 2\n",
            "2 x 2 = 4\n",
            "2 x 3 = 6\n",
            "2 x 4 = 8\n",
            "2 x 5 = 10\n",
            "2 x 6 = 12\n",
            "2 x 7 = 14\n",
            "2 x 8 = 16\n",
            "2 x 9 = 18\n",
            "2 x 10 = 20\n"
          ]
        }
      ]
    },
    {
      "cell_type": "markdown",
      "source": [
        "11)WAPP to find Volume and Surface Area of Cylinder."
      ],
      "metadata": {
        "id": "l7p_FGyWeLwf"
      }
    },
    {
      "cell_type": "code",
      "source": [
        "pi = 3.14\n",
        "r = float(input(\"Enter radius : \"))\n",
        "h = float(input('Enter Height : '))\n",
        "\n",
        "sa = 2 * pi * r * (r + h)\n",
        "Volume = pi * r * r * h\n",
        "\n",
        "print(\"The Surface area of a Cylinder = \" ,sa)\n",
        "print(\"The Volume of a Cylinder = \" ,Volume)"
      ],
      "metadata": {
        "colab": {
          "base_uri": "https://localhost:8080/"
        },
        "id": "HAQQk7_CeReD",
        "outputId": "a5cde470-35c3-4951-e372-45495ef5f28d"
      },
      "execution_count": null,
      "outputs": [
        {
          "output_type": "stream",
          "name": "stdout",
          "text": [
            "Enter radius : 2\n",
            "Enter Height : 6\n",
            "The Surface area of a Cylinder =  100.48\n",
            "The Volume of a Cylinder =  75.36\n"
          ]
        }
      ]
    },
    {
      "cell_type": "markdown",
      "source": [
        "12)WAPP to find the roots of a quadratic equation ax2+bx+c=0."
      ],
      "metadata": {
        "id": "tVW3t2XKfFYu"
      }
    },
    {
      "cell_type": "code",
      "source": [
        "a = int(input(\"Enter value of a : \"))\n",
        "b = int(input(\"Enter value of b : \"))\n",
        "c = int(input(\"Enter value of c : \"))\n",
        "\n",
        "dis = (b*b)-(4*a*c)\n",
        "\n",
        "if(dis>0):\n",
        "  root1 = (-b + math.sqrt(dis) / (2 * a))\n",
        "  root2 = (-b - math.sqrt(dis) / (2 * a))\n",
        "  print(\"Two Distinct Real Roots Exists: root1 = \",root1 ,\"and root2 = \" ,root2)\n",
        "\n",
        "elif(dis==0):\n",
        "  root1 = root2 = -b / (2 * a)\n",
        "  print(\"Two Equal and Real Roots Exists: root1 = \",root1 ,\" and root2 = \", root2)\n",
        "\n",
        "elif(dis<0):\n",
        "  root1 = root2 =-b/(2*a)\n",
        "  imag = math.sqrt(-dis)/(2*a)\n",
        "  print(\"Two Distinct Complex Roots Exists: root1 = \",root1 , imag ,\" and root2 = \" , root2, imag)"
      ],
      "metadata": {
        "colab": {
          "base_uri": "https://localhost:8080/"
        },
        "id": "C-BJiy-LfJVV",
        "outputId": "12d52ea9-a1e6-4d35-ae09-55af21cd35c1"
      },
      "execution_count": null,
      "outputs": [
        {
          "output_type": "stream",
          "name": "stdout",
          "text": [
            "Enter value of a : 8\n",
            "Enter value of b : 5\n",
            "Enter value of c : 9\n",
            "Two Distinct Complex Roots Exists: root1 =  -0.3125 1.0135796712641785  and root2 =  -0.3125 1.0135796712641785\n"
          ]
        }
      ]
    },
    {
      "cell_type": "markdown",
      "source": [
        "16) WAPP to convert a quantity in meter entered through keyboard into its equivalent\n",
        "kilometre and meter as per the following format.\n",
        "\n",
        "Example. 2430 meter = 2 Km and 430 meter."
      ],
      "metadata": {
        "id": "D0LeRJgv8Lrn"
      }
    },
    {
      "cell_type": "code",
      "source": [
        "m=int(input(\"Enter meters value :\"))\n",
        "\n",
        "km=int(m/1000)\n",
        "meter=m%1000\n",
        "\n",
        "print(m ,\":\" ,km,'km', meter ,\"meter\")"
      ],
      "metadata": {
        "id": "-A2UQqNC8Q0W",
        "colab": {
          "base_uri": "https://localhost:8080/"
        },
        "outputId": "59d150f9-afb7-434d-83c2-57ed0af77487"
      },
      "execution_count": null,
      "outputs": [
        {
          "output_type": "stream",
          "name": "stdout",
          "text": [
            "Enter meters value :2430\n",
            "2430 : 2 km 430 meter\n"
          ]
        }
      ]
    },
    {
      "cell_type": "markdown",
      "source": [
        "17)WAPP to print the sum of all prime numbers between 1 to n using a loop."
      ],
      "metadata": {
        "id": "4u49Aq4N8SBL"
      }
    },
    {
      "cell_type": "code",
      "source": [
        "n = int(input(\"Enter n : \"))\n",
        "sum = 0\n",
        "\n",
        "for num in range(2,n+1):\n",
        "    i=2\n",
        "    for i in range(2,num):\n",
        "        if(int(num%i==0)):\n",
        "            i=num\n",
        "            break;\n",
        "       \n",
        "    if i is not num:\n",
        "        sum+=num\n",
        "        \n",
        "print(\"Sum of all prime numbers 1 to \",n,\":\",sum)"
      ],
      "metadata": {
        "id": "gnaON5ih8U5z",
        "colab": {
          "base_uri": "https://localhost:8080/"
        },
        "outputId": "874df439-cbed-49de-fd0e-f8b3a1590af6"
      },
      "execution_count": null,
      "outputs": [
        {
          "output_type": "stream",
          "name": "stdout",
          "text": [
            "Enter n : 100\n",
            "Sum of all prime numbers 1 to  100 : 1058\n"
          ]
        }
      ]
    },
    {
      "cell_type": "markdown",
      "source": [
        "18)WAPP to display the reverse of a number entered through the keyboard."
      ],
      "metadata": {
        "id": "Q4DaRxSl8VNs"
      }
    },
    {
      "cell_type": "code",
      "source": [
        "num = int(input(\"Enter the number :\"))\n",
        "rev = 0\n",
        "\n",
        "while num != 0:\n",
        "    rem = num % 10\n",
        "    rev = rev * 10 + rem\n",
        "    num //= 10\n",
        "\n",
        "print(\"Reversed Number: \" ,rev)"
      ],
      "metadata": {
        "id": "2HvVWxgt8Ytv",
        "colab": {
          "base_uri": "https://localhost:8080/"
        },
        "outputId": "d638ef5a-4614-498d-a562-f352eb2138b5"
      },
      "execution_count": null,
      "outputs": [
        {
          "output_type": "stream",
          "name": "stdout",
          "text": [
            "Enter the number :4567\n",
            "Reversed Number:  7654\n"
          ]
        }
      ]
    },
    {
      "cell_type": "markdown",
      "source": [
        "19) WAPP to convert a decimal number into its equivalent number with base b.\n",
        "Decimal number and b are the user input."
      ],
      "metadata": {
        "id": "h365Gu0z8ZMC"
      }
    },
    {
      "cell_type": "code",
      "source": [
        "dec = int(input(\"Enter number : \"))\n",
        "\n",
        "\n",
        "print( \" in Binary : \", bin(dec))\n",
        "  \n",
        "print( \"in Octal : \", oct(dec))\n",
        "\n",
        "print(\" in Hexadecimal : \", hex(dec))  "
      ],
      "metadata": {
        "id": "QNMN4bVZ8cfW",
        "colab": {
          "base_uri": "https://localhost:8080/"
        },
        "outputId": "57302986-e11c-4d3e-febc-df191b4f1515"
      },
      "execution_count": null,
      "outputs": [
        {
          "output_type": "stream",
          "name": "stdout",
          "text": [
            "Enter number : 32\n",
            " in Binary :  0b100000\n",
            "in Octal :  0o40\n",
            " in Hexadecimal :  0x20\n"
          ]
        }
      ]
    },
    {
      "cell_type": "markdown",
      "source": [
        "20)WAPP to sum the following series S=1+(1+2)+(1+2+3)+...+(1+2+3+...+n)."
      ],
      "metadata": {
        "id": "jtBqmKFF8c-Y"
      }
    },
    {
      "cell_type": "code",
      "source": [
        "n = int(input(\"Enter value of n: \"))\n",
        "sum=0\n",
        "\n",
        "for i in range(1, n+1):\n",
        "  sum = sum+(i*(i+1)/2)\n",
        "\n",
        "print(\"sum of series :\", sum)"
      ],
      "metadata": {
        "colab": {
          "base_uri": "https://localhost:8080/"
        },
        "id": "l4MKebO49N1n",
        "outputId": "c738b5d2-872d-453b-f324-a9d01f4c4b2e"
      },
      "execution_count": null,
      "outputs": [
        {
          "output_type": "stream",
          "name": "stdout",
          "text": [
            "Enter value of n: 10\n",
            "sum of series : 220.0\n"
          ]
        }
      ]
    }
  ]
}